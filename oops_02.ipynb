{
 "cells": [
  {
   "cell_type": "markdown",
   "id": "dba89fb6-b83f-44a6-8f02-7a9c861711b9",
   "metadata": {},
   "source": [
    "Q1, Create a vehicle class with an init method having instance variables as name_of_vehicle, max_speed\n",
    "and average_of_vehicle."
   ]
  },
  {
   "cell_type": "markdown",
   "id": "dbf6eeae-ad23-4058-b61b-04715813208e",
   "metadata": {},
   "source": [
    "Solution:"
   ]
  },
  {
   "cell_type": "code",
   "execution_count": 2,
   "id": "1db92da8-e17e-4906-8e74-edb7c2055c69",
   "metadata": {},
   "outputs": [],
   "source": [
    "class vehicle:\n",
    "    def __init__(self , name_of_vehicle , max_speed , average_of_vehicle):\n",
    "        self.name_of_vehicle = name_of_vehicle \n",
    "        self.max_speed = max_speed\n",
    "        self.average_of_vehicle = average_of_vehicle\n",
    "        \n",
    "obj = vehicle(\"swift\",100,50)"
   ]
  },
  {
   "cell_type": "code",
   "execution_count": 3,
   "id": "a3a4c874-26e4-4c9a-af49-e9992dc550c2",
   "metadata": {},
   "outputs": [
    {
     "data": {
      "text/plain": [
       "100"
      ]
     },
     "execution_count": 3,
     "metadata": {},
     "output_type": "execute_result"
    }
   ],
   "source": [
    "obj.max_speed"
   ]
  },
  {
   "cell_type": "code",
   "execution_count": null,
   "id": "37fd737e-07c7-4ecb-b9b2-1189167ea808",
   "metadata": {},
   "outputs": [],
   "source": []
  },
  {
   "cell_type": "markdown",
   "id": "0f88ae40-ab17-4386-8056-fcd3b0830fd7",
   "metadata": {},
   "source": [
    "Q2. Create a child class car from the vehicle class created in Que 1, which will inherit the vehicle class.\n",
    "Create a method named seating_capacity which takes capacity as an argument and returns the name of\n",
    "the vehicle and its seating capacity."
   ]
  },
  {
   "cell_type": "markdown",
   "id": "a01e94cf-6228-43d0-8384-47ec329ce3c5",
   "metadata": {},
   "source": [
    "Solution:"
   ]
  },
  {
   "cell_type": "code",
   "execution_count": 7,
   "id": "3023d628-73b5-4938-8d74-70ce02b1c554",
   "metadata": {},
   "outputs": [],
   "source": [
    "class vehicle:\n",
    "    def __init__(self , name_of_vehicle , max_speed , average_of_vehicle):\n",
    "        self.name_of_vehicle = name_of_vehicle \n",
    "        self.max_speed = max_speed\n",
    "        self.average_of_vehicle = average_of_vehicle\n",
    "        \n",
    "class car(vehicle):\n",
    "    def seating_capacity(self,capacity):\n",
    "        return f\"The name of vehicle is {self.name_of_vehicle} and its seating capacity is {capacity}\"\n",
    "        \n",
    "obj = car(\"swift\",100,50)\n",
    "\n",
    "res = obj.seating_capacity(5)"
   ]
  },
  {
   "cell_type": "code",
   "execution_count": 8,
   "id": "4cd0850a-5f2a-4698-bff8-621ed87ece51",
   "metadata": {},
   "outputs": [
    {
     "data": {
      "text/plain": [
       "'The name of vehicle is swift and its seating capacity is 5'"
      ]
     },
     "execution_count": 8,
     "metadata": {},
     "output_type": "execute_result"
    }
   ],
   "source": [
    "res"
   ]
  },
  {
   "cell_type": "code",
   "execution_count": null,
   "id": "c31c9d34-df37-4ba9-aaf1-93ea47fa6917",
   "metadata": {},
   "outputs": [],
   "source": []
  },
  {
   "cell_type": "markdown",
   "id": "fbf692d9-7f67-47c8-b9fe-2ab5757cc09c",
   "metadata": {},
   "source": [
    "Q3. What is multiple inheritance? Write a python code to demonstrate multiple inheritance."
   ]
  },
  {
   "cell_type": "code",
   "execution_count": 10,
   "id": "e8976081-8f72-408d-90a8-c06b7ec55186",
   "metadata": {},
   "outputs": [
    {
     "name": "stdout",
     "output_type": "stream",
     "text": [
      "In Class2\n"
     ]
    }
   ],
   "source": [
    "# Multiple inheritance: A subclass inherits from multiple superclasses.\n",
    "\n",
    "class Class1:\n",
    "    def m(self):\n",
    "        print(\"In Class1\")\n",
    "       \n",
    "class Class2(Class1):\n",
    "    def m(self):\n",
    "        print(\"In Class2\")\n",
    " \n",
    "class Class3(Class1):\n",
    "    def m(self):\n",
    "        print(\"In Class3\") \n",
    "        \n",
    "class Class4(Class2, Class3):\n",
    "    pass  \n",
    "     \n",
    "obj = Class4()\n",
    "obj.m()"
   ]
  },
  {
   "cell_type": "code",
   "execution_count": null,
   "id": "276b22f2-0a61-4e51-952b-79ec87fcd2c8",
   "metadata": {},
   "outputs": [],
   "source": []
  },
  {
   "cell_type": "markdown",
   "id": "5a08689d-3b42-48d9-9487-46cfcbcb9f58",
   "metadata": {},
   "source": [
    "Q4. What are getter and setter in python? Create a class and create a getter and a setter method in this\n",
    "class."
   ]
  },
  {
   "cell_type": "markdown",
   "id": "3a25211c-721e-4ac9-86ae-4c9138cf5b7b",
   "metadata": {},
   "source": [
    "Solution:"
   ]
  },
  {
   "cell_type": "code",
   "execution_count": 30,
   "id": "5087f0f0-0b19-4ad4-bc7b-5eec1802d94e",
   "metadata": {},
   "outputs": [],
   "source": [
    "class Employee:\n",
    "    def __init__(self,name,salary,bonus):\n",
    "        self.name = name\n",
    "        self.salary = salary\n",
    "        self.bonus = bonus\n",
    "        self.total_salary = self.salary + self.bonus\n",
    "        \n",
    "    @property\n",
    "    def show_details(self):\n",
    "        print(f\"{self.total_salary}\")\n",
    "        \n",
    "    @show_details.setter\n",
    "    def totalSalary(self,val):\n",
    "        self.bonus = val - self.salary\n",
    "        \n",
    "        "
   ]
  },
  {
   "cell_type": "code",
   "execution_count": 31,
   "id": "cefbebf3-2d7f-426e-95dc-798b87eb3ca7",
   "metadata": {},
   "outputs": [],
   "source": [
    "obj = Employee(\"harry\",5000,500)"
   ]
  },
  {
   "cell_type": "code",
   "execution_count": 32,
   "id": "d8f327c9-03f6-46a4-b38c-d01dd959aa87",
   "metadata": {},
   "outputs": [
    {
     "name": "stdout",
     "output_type": "stream",
     "text": [
      "5500\n"
     ]
    }
   ],
   "source": [
    "obj.show_details"
   ]
  },
  {
   "cell_type": "code",
   "execution_count": 33,
   "id": "d7924047-66ac-4b32-bdfd-945ff3f32654",
   "metadata": {},
   "outputs": [],
   "source": [
    "obj.totalSalary = 6000"
   ]
  },
  {
   "cell_type": "code",
   "execution_count": 34,
   "id": "1fdc8690-31bf-43ed-8cb1-2654485e2046",
   "metadata": {},
   "outputs": [
    {
     "data": {
      "text/plain": [
       "1000"
      ]
     },
     "execution_count": 34,
     "metadata": {},
     "output_type": "execute_result"
    }
   ],
   "source": [
    "obj.bonus"
   ]
  },
  {
   "cell_type": "code",
   "execution_count": null,
   "id": "1e46f901-5289-4e00-ae67-4d2e0e3c2e83",
   "metadata": {},
   "outputs": [],
   "source": []
  },
  {
   "cell_type": "markdown",
   "id": "4460acf3-3514-4fb5-b6ad-7aa6637f74be",
   "metadata": {},
   "source": [
    "Q5.What is method overriding in python? Write a python code to demonstrate method overriding."
   ]
  },
  {
   "cell_type": "markdown",
   "id": "0470e251-e7ca-4940-96bd-05f0aab97f19",
   "metadata": {},
   "source": [
    "Solution:"
   ]
  },
  {
   "cell_type": "code",
   "execution_count": 36,
   "id": "7e2c0aa3-4f99-43e3-a3e1-693249d7ff46",
   "metadata": {},
   "outputs": [],
   "source": [
    "class Company:\n",
    "    \n",
    "    company = \"amazon\"\n",
    "    \n",
    "    def __init__(self ,name):\n",
    "        self.name = name\n",
    "    \n",
    "\n",
    "    def show_details(self):\n",
    "        print(f\"The name of the person in the {self.company} is  {self.name}\")\n",
    "\n",
    "class Employee(Company):\n",
    "    def __init__(self,name,salary):\n",
    "        super().__init__(name)\n",
    "        self.salary = salary\n",
    "        \n",
    "    def show_details(self):\n",
    "        super().show_details()\n",
    "        print(f\"The salary of {self.name} in {self.company} is {self.salary}\")"
   ]
  },
  {
   "cell_type": "code",
   "execution_count": 37,
   "id": "f3de95df-0804-43d1-a263-d54fdc65ef95",
   "metadata": {},
   "outputs": [
    {
     "data": {
      "text/plain": [
       "'Harry'"
      ]
     },
     "execution_count": 37,
     "metadata": {},
     "output_type": "execute_result"
    }
   ],
   "source": [
    "obj = Employee(\"Harry\",2000)\n",
    "obj.name"
   ]
  },
  {
   "cell_type": "code",
   "execution_count": 38,
   "id": "fcbb7e0b-7106-4682-aa9c-c78d08474b3d",
   "metadata": {},
   "outputs": [
    {
     "name": "stdout",
     "output_type": "stream",
     "text": [
      "The name of the person in the amazon is  Harry\n",
      "The salary of Harry in amazon is 2000\n"
     ]
    }
   ],
   "source": [
    "obj.show_details()"
   ]
  },
  {
   "cell_type": "code",
   "execution_count": null,
   "id": "913f28c0-ae36-4f3e-b744-f41b1725dbab",
   "metadata": {},
   "outputs": [],
   "source": []
  }
 ],
 "metadata": {
  "kernelspec": {
   "display_name": "Python 3 (ipykernel)",
   "language": "python",
   "name": "python3"
  },
  "language_info": {
   "codemirror_mode": {
    "name": "ipython",
    "version": 3
   },
   "file_extension": ".py",
   "mimetype": "text/x-python",
   "name": "python",
   "nbconvert_exporter": "python",
   "pygments_lexer": "ipython3",
   "version": "3.10.8"
  }
 },
 "nbformat": 4,
 "nbformat_minor": 5
}
